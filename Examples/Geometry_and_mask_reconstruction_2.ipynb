{
 "cells": [
  {
   "cell_type": "markdown",
   "metadata": {},
   "source": [
    "# Delaunay-Watershed for data compression : Cell aggregates\n",
    "\n",
    "In this notebook, we present how to compress label data in a multimaterial mesh and recompute the mask from the mesh and the seeds if necessary"
   ]
  },
  {
   "cell_type": "markdown",
   "metadata": {},
   "source": [
    "## 1) Compute multimaterial mesh with Delaunay Watershed"
   ]
  },
  {
   "cell_type": "code",
   "execution_count": 3,
   "metadata": {},
   "outputs": [
    {
     "name": "stdout",
     "output_type": "stream",
     "text": [
      "Mode == Torch\n",
      "Kernel size = 5\n",
      "Computing EDT ...\n",
      "EDT computed in  0.65\n",
      "Searching local extremas ...\n",
      "Number of local minimas : 2613\n",
      "Number of local maxes : 92\n",
      "Local minimas computed in  2.24\n",
      "Starting triangulation..\n",
      "Triangulation build in  0.05\n",
      "Graph build in  0.608\n",
      "Watershed done in  0.269\n"
     ]
    }
   ],
   "source": [
    "from dw3d import geometry_reconstruction_3d, reconstruct_mask_from_dict\n",
    "import skimage.io as io \n",
    "\n",
    "def make_idx(n): \n",
    "    return((\"000\"+str(n))[-3:])\n",
    "\n",
    "dist = 5\n",
    "\n",
    "image_path = \"../data/Images/1.tif\"\n",
    "image = io.imread(image_path)\n",
    "DW = geometry_reconstruction_3d(image,min_dist = dist, expansion_labels =0,mode='torch',print_info=True)"
   ]
  },
  {
   "cell_type": "markdown",
   "metadata": {},
   "source": [
    "## 2) Export segmentations for reconstruction. Visualize in napari"
   ]
  },
  {
   "cell_type": "code",
   "execution_count": 4,
   "metadata": {},
   "outputs": [],
   "source": [
    "DW.export_segmentation(\"Dict_mask.npy\")"
   ]
  },
  {
   "cell_type": "code",
   "execution_count": 5,
   "metadata": {},
   "outputs": [],
   "source": [
    "labels = reconstruct_mask_from_dict(\"Dict_mask.npy\")"
   ]
  },
  {
   "cell_type": "code",
   "execution_count": 6,
   "metadata": {},
   "outputs": [
    {
     "data": {
      "text/plain": [
       "<Image layer 'Image' at 0x7f95081497f0>"
      ]
     },
     "execution_count": 6,
     "metadata": {},
     "output_type": "execute_result"
    }
   ],
   "source": [
    "import napari\n",
    "v = napari.view_image(labels)\n",
    "v.add_image(DW.labels)"
   ]
  },
  {
   "cell_type": "markdown",
   "metadata": {},
   "source": [
    "## 3) Print size saved : "
   ]
  },
  {
   "cell_type": "code",
   "execution_count": 7,
   "metadata": {},
   "outputs": [
    {
     "name": "stdout",
     "output_type": "stream",
     "text": [
      "Size of Delaunay-Watershed data: 273968 bytes\n",
      "Size of the labels: 19719200 bytes\n",
      "Relative size: 0.013893464237900117\n"
     ]
    }
   ],
   "source": [
    "import sys\n",
    "import numpy as np \n",
    "D = np.load(\"Dict_mask.npy\",allow_pickle=True).item()\n",
    "Dict_memory_footprint = D['Verts'].nbytes + D['Faces'].nbytes + D['seeds'].nbytes + D['image_shape'].nbytes\n",
    "print(\"Size of Delaunay-Watershed data:\",Dict_memory_footprint,\"bytes\")\n",
    "print(\"Size of the labels:\",labels.nbytes,\"bytes\")\n",
    "print(\"Relative size:\", Dict_memory_footprint/labels.nbytes)"
   ]
  },
  {
   "cell_type": "code",
   "execution_count": null,
   "metadata": {},
   "outputs": [],
   "source": []
  }
 ],
 "metadata": {
  "kernelspec": {
   "display_name": "Python 3",
   "language": "python",
   "name": "python3"
  },
  "language_info": {
   "codemirror_mode": {
    "name": "ipython",
    "version": 3
   },
   "file_extension": ".py",
   "mimetype": "text/x-python",
   "name": "python",
   "nbconvert_exporter": "python",
   "pygments_lexer": "ipython3",
   "version": "3.8.3"
  }
 },
 "nbformat": 4,
 "nbformat_minor": 4
}
